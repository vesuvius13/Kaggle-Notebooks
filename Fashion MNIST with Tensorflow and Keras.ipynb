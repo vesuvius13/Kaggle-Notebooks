{
 "cells": [
  {
   "cell_type": "code",
   "execution_count": 1,
   "metadata": {},
   "outputs": [],
   "source": [
    "import numpy as np\n",
    "import pandas as pd\n",
    "import matplotlib.pyplot as plt\n",
    "%matplotlib inline\n",
    "from tensorflow.keras.models import Sequential\n",
    "from tensorflow.keras.layers import Dense, Conv2D, MaxPool2D, Flatten, Dropout, BatchNormalization\n",
    "from tensorflow.keras.callbacks import EarlyStopping\n",
    "from sklearn.metrics import classification_report, confusion_matrix\n",
    "import seaborn as sns\n",
    "from sklearn.model_selection import train_test_split\n",
    "import visualkeras\n",
    "from tensorflow.keras.utils import plot_model\n",
    "from tensorflow.keras.utils import to_categorical\n",
    "from tensorflow.keras.optimizers import Adam\n",
    "import pydot\n",
    "import graphviz"
   ]
  },
  {
   "cell_type": "code",
   "execution_count": 70,
   "metadata": {},
   "outputs": [],
   "source": [
    "train_df = pd.read_csv('fashion-mnist_train.csv')\n",
    "test_df = pd.read_csv('fashion-mnist_test.csv')"
   ]
  },
  {
   "cell_type": "code",
   "execution_count": 71,
   "metadata": {},
   "outputs": [],
   "source": [
    "classes = {0 : 'T-shirt/top',\n",
    "1 :  'Trouser',\n",
    "2 : 'Pullover',\n",
    "3 : 'Dress',\n",
    "4 : 'Coat',\n",
    "5 : 'Sandal',\n",
    "6 : 'Shirt',\n",
    "7 : 'Sneaker',\n",
    "8 : 'Bag',\n",
    "9 : 'Ankle boot'}"
   ]
  },
  {
   "cell_type": "code",
   "execution_count": 72,
   "metadata": {},
   "outputs": [
    {
     "data": {
      "text/html": [
       "<div>\n",
       "<style scoped>\n",
       "    .dataframe tbody tr th:only-of-type {\n",
       "        vertical-align: middle;\n",
       "    }\n",
       "\n",
       "    .dataframe tbody tr th {\n",
       "        vertical-align: top;\n",
       "    }\n",
       "\n",
       "    .dataframe thead th {\n",
       "        text-align: right;\n",
       "    }\n",
       "</style>\n",
       "<table border=\"1\" class=\"dataframe\">\n",
       "  <thead>\n",
       "    <tr style=\"text-align: right;\">\n",
       "      <th></th>\n",
       "      <th>label</th>\n",
       "      <th>pixel1</th>\n",
       "      <th>pixel2</th>\n",
       "      <th>pixel3</th>\n",
       "      <th>pixel4</th>\n",
       "      <th>pixel5</th>\n",
       "      <th>pixel6</th>\n",
       "      <th>pixel7</th>\n",
       "      <th>pixel8</th>\n",
       "      <th>pixel9</th>\n",
       "      <th>...</th>\n",
       "      <th>pixel775</th>\n",
       "      <th>pixel776</th>\n",
       "      <th>pixel777</th>\n",
       "      <th>pixel778</th>\n",
       "      <th>pixel779</th>\n",
       "      <th>pixel780</th>\n",
       "      <th>pixel781</th>\n",
       "      <th>pixel782</th>\n",
       "      <th>pixel783</th>\n",
       "      <th>pixel784</th>\n",
       "    </tr>\n",
       "  </thead>\n",
       "  <tbody>\n",
       "    <tr>\n",
       "      <th>0</th>\n",
       "      <td>2</td>\n",
       "      <td>0</td>\n",
       "      <td>0</td>\n",
       "      <td>0</td>\n",
       "      <td>0</td>\n",
       "      <td>0</td>\n",
       "      <td>0</td>\n",
       "      <td>0</td>\n",
       "      <td>0</td>\n",
       "      <td>0</td>\n",
       "      <td>...</td>\n",
       "      <td>0</td>\n",
       "      <td>0</td>\n",
       "      <td>0</td>\n",
       "      <td>0</td>\n",
       "      <td>0</td>\n",
       "      <td>0</td>\n",
       "      <td>0</td>\n",
       "      <td>0</td>\n",
       "      <td>0</td>\n",
       "      <td>0</td>\n",
       "    </tr>\n",
       "    <tr>\n",
       "      <th>1</th>\n",
       "      <td>9</td>\n",
       "      <td>0</td>\n",
       "      <td>0</td>\n",
       "      <td>0</td>\n",
       "      <td>0</td>\n",
       "      <td>0</td>\n",
       "      <td>0</td>\n",
       "      <td>0</td>\n",
       "      <td>0</td>\n",
       "      <td>0</td>\n",
       "      <td>...</td>\n",
       "      <td>0</td>\n",
       "      <td>0</td>\n",
       "      <td>0</td>\n",
       "      <td>0</td>\n",
       "      <td>0</td>\n",
       "      <td>0</td>\n",
       "      <td>0</td>\n",
       "      <td>0</td>\n",
       "      <td>0</td>\n",
       "      <td>0</td>\n",
       "    </tr>\n",
       "    <tr>\n",
       "      <th>2</th>\n",
       "      <td>6</td>\n",
       "      <td>0</td>\n",
       "      <td>0</td>\n",
       "      <td>0</td>\n",
       "      <td>0</td>\n",
       "      <td>0</td>\n",
       "      <td>0</td>\n",
       "      <td>0</td>\n",
       "      <td>5</td>\n",
       "      <td>0</td>\n",
       "      <td>...</td>\n",
       "      <td>0</td>\n",
       "      <td>0</td>\n",
       "      <td>0</td>\n",
       "      <td>30</td>\n",
       "      <td>43</td>\n",
       "      <td>0</td>\n",
       "      <td>0</td>\n",
       "      <td>0</td>\n",
       "      <td>0</td>\n",
       "      <td>0</td>\n",
       "    </tr>\n",
       "    <tr>\n",
       "      <th>3</th>\n",
       "      <td>0</td>\n",
       "      <td>0</td>\n",
       "      <td>0</td>\n",
       "      <td>0</td>\n",
       "      <td>1</td>\n",
       "      <td>2</td>\n",
       "      <td>0</td>\n",
       "      <td>0</td>\n",
       "      <td>0</td>\n",
       "      <td>0</td>\n",
       "      <td>...</td>\n",
       "      <td>3</td>\n",
       "      <td>0</td>\n",
       "      <td>0</td>\n",
       "      <td>0</td>\n",
       "      <td>0</td>\n",
       "      <td>1</td>\n",
       "      <td>0</td>\n",
       "      <td>0</td>\n",
       "      <td>0</td>\n",
       "      <td>0</td>\n",
       "    </tr>\n",
       "    <tr>\n",
       "      <th>4</th>\n",
       "      <td>3</td>\n",
       "      <td>0</td>\n",
       "      <td>0</td>\n",
       "      <td>0</td>\n",
       "      <td>0</td>\n",
       "      <td>0</td>\n",
       "      <td>0</td>\n",
       "      <td>0</td>\n",
       "      <td>0</td>\n",
       "      <td>0</td>\n",
       "      <td>...</td>\n",
       "      <td>0</td>\n",
       "      <td>0</td>\n",
       "      <td>0</td>\n",
       "      <td>0</td>\n",
       "      <td>0</td>\n",
       "      <td>0</td>\n",
       "      <td>0</td>\n",
       "      <td>0</td>\n",
       "      <td>0</td>\n",
       "      <td>0</td>\n",
       "    </tr>\n",
       "  </tbody>\n",
       "</table>\n",
       "<p>5 rows × 785 columns</p>\n",
       "</div>"
      ],
      "text/plain": [
       "   label  pixel1  pixel2  pixel3  pixel4  pixel5  pixel6  pixel7  pixel8  \\\n",
       "0      2       0       0       0       0       0       0       0       0   \n",
       "1      9       0       0       0       0       0       0       0       0   \n",
       "2      6       0       0       0       0       0       0       0       5   \n",
       "3      0       0       0       0       1       2       0       0       0   \n",
       "4      3       0       0       0       0       0       0       0       0   \n",
       "\n",
       "   pixel9  ...  pixel775  pixel776  pixel777  pixel778  pixel779  pixel780  \\\n",
       "0       0  ...         0         0         0         0         0         0   \n",
       "1       0  ...         0         0         0         0         0         0   \n",
       "2       0  ...         0         0         0        30        43         0   \n",
       "3       0  ...         3         0         0         0         0         1   \n",
       "4       0  ...         0         0         0         0         0         0   \n",
       "\n",
       "   pixel781  pixel782  pixel783  pixel784  \n",
       "0         0         0         0         0  \n",
       "1         0         0         0         0  \n",
       "2         0         0         0         0  \n",
       "3         0         0         0         0  \n",
       "4         0         0         0         0  \n",
       "\n",
       "[5 rows x 785 columns]"
      ]
     },
     "execution_count": 72,
     "metadata": {},
     "output_type": "execute_result"
    }
   ],
   "source": [
    "train_df.head()"
   ]
  },
  {
   "cell_type": "code",
   "execution_count": 73,
   "metadata": {},
   "outputs": [
    {
     "data": {
      "text/html": [
       "<div>\n",
       "<style scoped>\n",
       "    .dataframe tbody tr th:only-of-type {\n",
       "        vertical-align: middle;\n",
       "    }\n",
       "\n",
       "    .dataframe tbody tr th {\n",
       "        vertical-align: top;\n",
       "    }\n",
       "\n",
       "    .dataframe thead th {\n",
       "        text-align: right;\n",
       "    }\n",
       "</style>\n",
       "<table border=\"1\" class=\"dataframe\">\n",
       "  <thead>\n",
       "    <tr style=\"text-align: right;\">\n",
       "      <th></th>\n",
       "      <th>label</th>\n",
       "      <th>pixel1</th>\n",
       "      <th>pixel2</th>\n",
       "      <th>pixel3</th>\n",
       "      <th>pixel4</th>\n",
       "      <th>pixel5</th>\n",
       "      <th>pixel6</th>\n",
       "      <th>pixel7</th>\n",
       "      <th>pixel8</th>\n",
       "      <th>pixel9</th>\n",
       "      <th>...</th>\n",
       "      <th>pixel775</th>\n",
       "      <th>pixel776</th>\n",
       "      <th>pixel777</th>\n",
       "      <th>pixel778</th>\n",
       "      <th>pixel779</th>\n",
       "      <th>pixel780</th>\n",
       "      <th>pixel781</th>\n",
       "      <th>pixel782</th>\n",
       "      <th>pixel783</th>\n",
       "      <th>pixel784</th>\n",
       "    </tr>\n",
       "  </thead>\n",
       "  <tbody>\n",
       "    <tr>\n",
       "      <th>0</th>\n",
       "      <td>0</td>\n",
       "      <td>0</td>\n",
       "      <td>0</td>\n",
       "      <td>0</td>\n",
       "      <td>0</td>\n",
       "      <td>0</td>\n",
       "      <td>0</td>\n",
       "      <td>0</td>\n",
       "      <td>9</td>\n",
       "      <td>8</td>\n",
       "      <td>...</td>\n",
       "      <td>103</td>\n",
       "      <td>87</td>\n",
       "      <td>56</td>\n",
       "      <td>0</td>\n",
       "      <td>0</td>\n",
       "      <td>0</td>\n",
       "      <td>0</td>\n",
       "      <td>0</td>\n",
       "      <td>0</td>\n",
       "      <td>0</td>\n",
       "    </tr>\n",
       "    <tr>\n",
       "      <th>1</th>\n",
       "      <td>1</td>\n",
       "      <td>0</td>\n",
       "      <td>0</td>\n",
       "      <td>0</td>\n",
       "      <td>0</td>\n",
       "      <td>0</td>\n",
       "      <td>0</td>\n",
       "      <td>0</td>\n",
       "      <td>0</td>\n",
       "      <td>0</td>\n",
       "      <td>...</td>\n",
       "      <td>34</td>\n",
       "      <td>0</td>\n",
       "      <td>0</td>\n",
       "      <td>0</td>\n",
       "      <td>0</td>\n",
       "      <td>0</td>\n",
       "      <td>0</td>\n",
       "      <td>0</td>\n",
       "      <td>0</td>\n",
       "      <td>0</td>\n",
       "    </tr>\n",
       "    <tr>\n",
       "      <th>2</th>\n",
       "      <td>2</td>\n",
       "      <td>0</td>\n",
       "      <td>0</td>\n",
       "      <td>0</td>\n",
       "      <td>0</td>\n",
       "      <td>0</td>\n",
       "      <td>0</td>\n",
       "      <td>14</td>\n",
       "      <td>53</td>\n",
       "      <td>99</td>\n",
       "      <td>...</td>\n",
       "      <td>0</td>\n",
       "      <td>0</td>\n",
       "      <td>0</td>\n",
       "      <td>0</td>\n",
       "      <td>63</td>\n",
       "      <td>53</td>\n",
       "      <td>31</td>\n",
       "      <td>0</td>\n",
       "      <td>0</td>\n",
       "      <td>0</td>\n",
       "    </tr>\n",
       "    <tr>\n",
       "      <th>3</th>\n",
       "      <td>2</td>\n",
       "      <td>0</td>\n",
       "      <td>0</td>\n",
       "      <td>0</td>\n",
       "      <td>0</td>\n",
       "      <td>0</td>\n",
       "      <td>0</td>\n",
       "      <td>0</td>\n",
       "      <td>0</td>\n",
       "      <td>0</td>\n",
       "      <td>...</td>\n",
       "      <td>137</td>\n",
       "      <td>126</td>\n",
       "      <td>140</td>\n",
       "      <td>0</td>\n",
       "      <td>133</td>\n",
       "      <td>224</td>\n",
       "      <td>222</td>\n",
       "      <td>56</td>\n",
       "      <td>0</td>\n",
       "      <td>0</td>\n",
       "    </tr>\n",
       "    <tr>\n",
       "      <th>4</th>\n",
       "      <td>3</td>\n",
       "      <td>0</td>\n",
       "      <td>0</td>\n",
       "      <td>0</td>\n",
       "      <td>0</td>\n",
       "      <td>0</td>\n",
       "      <td>0</td>\n",
       "      <td>0</td>\n",
       "      <td>0</td>\n",
       "      <td>0</td>\n",
       "      <td>...</td>\n",
       "      <td>0</td>\n",
       "      <td>0</td>\n",
       "      <td>0</td>\n",
       "      <td>0</td>\n",
       "      <td>0</td>\n",
       "      <td>0</td>\n",
       "      <td>0</td>\n",
       "      <td>0</td>\n",
       "      <td>0</td>\n",
       "      <td>0</td>\n",
       "    </tr>\n",
       "  </tbody>\n",
       "</table>\n",
       "<p>5 rows × 785 columns</p>\n",
       "</div>"
      ],
      "text/plain": [
       "   label  pixel1  pixel2  pixel3  pixel4  pixel5  pixel6  pixel7  pixel8  \\\n",
       "0      0       0       0       0       0       0       0       0       9   \n",
       "1      1       0       0       0       0       0       0       0       0   \n",
       "2      2       0       0       0       0       0       0      14      53   \n",
       "3      2       0       0       0       0       0       0       0       0   \n",
       "4      3       0       0       0       0       0       0       0       0   \n",
       "\n",
       "   pixel9  ...  pixel775  pixel776  pixel777  pixel778  pixel779  pixel780  \\\n",
       "0       8  ...       103        87        56         0         0         0   \n",
       "1       0  ...        34         0         0         0         0         0   \n",
       "2      99  ...         0         0         0         0        63        53   \n",
       "3       0  ...       137       126       140         0       133       224   \n",
       "4       0  ...         0         0         0         0         0         0   \n",
       "\n",
       "   pixel781  pixel782  pixel783  pixel784  \n",
       "0         0         0         0         0  \n",
       "1         0         0         0         0  \n",
       "2        31         0         0         0  \n",
       "3       222        56         0         0  \n",
       "4         0         0         0         0  \n",
       "\n",
       "[5 rows x 785 columns]"
      ]
     },
     "execution_count": 73,
     "metadata": {},
     "output_type": "execute_result"
    }
   ],
   "source": [
    "test_df.head()"
   ]
  },
  {
   "cell_type": "code",
   "execution_count": 74,
   "metadata": {},
   "outputs": [
    {
     "data": {
      "text/plain": [
       "(60000, 785)"
      ]
     },
     "execution_count": 74,
     "metadata": {},
     "output_type": "execute_result"
    }
   ],
   "source": [
    "train_df.shape"
   ]
  },
  {
   "cell_type": "code",
   "execution_count": 75,
   "metadata": {},
   "outputs": [
    {
     "data": {
      "text/plain": [
       "(10000, 785)"
      ]
     },
     "execution_count": 75,
     "metadata": {},
     "output_type": "execute_result"
    }
   ],
   "source": [
    "test_df.shape"
   ]
  },
  {
   "cell_type": "code",
   "execution_count": 131,
   "metadata": {},
   "outputs": [],
   "source": [
    "train_df['label_names'] = train_df['label'].map(classes)"
   ]
  },
  {
   "cell_type": "code",
   "execution_count": 142,
   "metadata": {},
   "outputs": [
    {
     "data": {
      "image/png": "[encoded data removed]",
      "text/plain": [
       "<Figure size 720x432 with 1 Axes>"
      ]
     },
     "metadata": {
      "needs_background": "light"
     },
     "output_type": "display_data"
    }
   ],
   "source": [
    "plt.figure(figsize=(10,6))\n",
    "sns.countplot(x = 'label_names', data = train_df, facecolor=(0, 0, 0, 0),\n",
    "                   linewidth=5,\n",
    "                   edgecolor=sns.color_palette(\"dark\", 3))\n",
    "plt.xlabel('Class Names')\n",
    "plt.ylabel('Count')\n",
    "plt.title('Distribution of Training set images wrt classes')\n",
    "plt.show()"
   ]
  },
  {
   "cell_type": "code",
   "execution_count": 140,
   "metadata": {},
   "outputs": [],
   "source": [
    "test_df['label_names'] = test_df['label'].map(classes)"
   ]
  },
  {
   "cell_type": "code",
   "execution_count": 143,
   "metadata": {},
   "outputs": [
    {
     "data": {
      "image/png": "[encoded data removed]",
      "text/plain": [
       "<Figure size 720x432 with 1 Axes>"
      ]
     },
     "metadata": {
      "needs_background": "light"
     },
     "output_type": "display_data"
    }
   ],
   "source": [
    "plt.figure(figsize=(10,6))\n",
    "sns.countplot(x = 'label_names', data = test_df, facecolor=(0, 0, 0, 0),\n",
    "                   linewidth=5,\n",
    "                   edgecolor=sns.color_palette(\"dark\", 3))\n",
    "plt.xlabel('Class Names')\n",
    "plt.ylabel('Count')\n",
    "plt.title('Distribution of Test set images wrt classes')\n",
    "plt.show()"
   ]
  },
  {
   "cell_type": "code",
   "execution_count": 76,
   "metadata": {},
   "outputs": [],
   "source": [
    "#data preprocessing"
   ]
  },
  {
   "cell_type": "code",
   "execution_count": 77,
   "metadata": {},
   "outputs": [],
   "source": [
    "#dividing training and test sets into features and labels"
   ]
  },
  {
   "cell_type": "code",
   "execution_count": 78,
   "metadata": {},
   "outputs": [],
   "source": [
    "X_train = train_df.drop(['label', 'label_names'], axis = 1)\n",
    "y_train = train_df.label"
   ]
  },
  {
   "cell_type": "code",
   "execution_count": 79,
   "metadata": {},
   "outputs": [],
   "source": [
    "X_test = test_df.drop(['label', 'label_names'], axis = 1)\n",
    "y_test = test_df.label"
   ]
  },
  {
   "cell_type": "code",
   "execution_count": 80,
   "metadata": {},
   "outputs": [],
   "source": [
    "#reshaping"
   ]
  },
  {
   "cell_type": "code",
   "execution_count": 81,
   "metadata": {},
   "outputs": [],
   "source": [
    "X_train = X_train.values.reshape(X_train.shape[0], 28, 28)\n",
    "X_test = X_test.values.reshape(X_test.shape[0], 28, 28)"
   ]
  },
  {
   "cell_type": "code",
   "execution_count": 82,
   "metadata": {},
   "outputs": [
    {
     "data": {
      "text/plain": [
       "(60000, 28, 28)"
      ]
     },
     "execution_count": 82,
     "metadata": {},
     "output_type": "execute_result"
    }
   ],
   "source": [
    "X_train.shape"
   ]
  },
  {
   "cell_type": "code",
   "execution_count": 83,
   "metadata": {},
   "outputs": [
    {
     "data": {
      "text/plain": [
       "(10000, 28, 28)"
      ]
     },
     "execution_count": 83,
     "metadata": {},
     "output_type": "execute_result"
    }
   ],
   "source": [
    "X_test.shape"
   ]
  },
  {
   "cell_type": "code",
   "execution_count": 84,
   "metadata": {},
   "outputs": [],
   "source": [
    "#visualizing a single image"
   ]
  },
  {
   "cell_type": "code",
   "execution_count": 85,
   "metadata": {},
   "outputs": [
    {
     "data": {
      "text/plain": [
       "<matplotlib.image.AxesImage at 0x277e0043ec8>"
      ]
     },
     "execution_count": 85,
     "metadata": {},
     "output_type": "execute_result"
    },
    {
     "data": {
      "image/png": "[encoded data removed]",
      "text/plain": [
       "<Figure size 432x288 with 1 Axes>"
      ]
     },
     "metadata": {
      "needs_background": "light"
     },
     "output_type": "display_data"
    }
   ],
   "source": [
    "single_image = X_train[1]\n",
    "plt.imshow(single_image)"
   ]
  },
  {
   "cell_type": "code",
   "execution_count": 86,
   "metadata": {},
   "outputs": [],
   "source": [
    "#seems like an ankle boot"
   ]
  },
  {
   "cell_type": "code",
   "execution_count": 87,
   "metadata": {},
   "outputs": [
    {
     "data": {
      "text/plain": [
       "0        2\n",
       "1        9\n",
       "2        6\n",
       "3        0\n",
       "4        3\n",
       "        ..\n",
       "59995    9\n",
       "59996    1\n",
       "59997    8\n",
       "59998    8\n",
       "59999    7\n",
       "Name: label, Length: 60000, dtype: int64"
      ]
     },
     "execution_count": 87,
     "metadata": {},
     "output_type": "execute_result"
    }
   ],
   "source": [
    "y_train"
   ]
  },
  {
   "cell_type": "code",
   "execution_count": 88,
   "metadata": {},
   "outputs": [],
   "source": [
    "# Index 1 has 9 as a value which is the key of Ankle boot as per classes dictionary, so we stand correct"
   ]
  },
  {
   "cell_type": "code",
   "execution_count": 89,
   "metadata": {},
   "outputs": [],
   "source": [
    "#one-hot encoding"
   ]
  },
  {
   "cell_type": "code",
   "execution_count": 90,
   "metadata": {},
   "outputs": [],
   "source": [
    "y_cat_train = to_categorical(y_train, num_classes= 10)\n",
    "y_cat_test = to_categorical(y_test, num_classes= 10)"
   ]
  },
  {
   "cell_type": "code",
   "execution_count": 91,
   "metadata": {},
   "outputs": [],
   "source": [
    "#normalizing the image"
   ]
  },
  {
   "cell_type": "code",
   "execution_count": 92,
   "metadata": {},
   "outputs": [],
   "source": [
    "X_train = X_train/255\n",
    "X_test = X_test/255"
   ]
  },
  {
   "cell_type": "code",
   "execution_count": 93,
   "metadata": {},
   "outputs": [],
   "source": [
    "#adding the color channel, since it's a grey scale image, we'll have 1 color channel"
   ]
  },
  {
   "cell_type": "code",
   "execution_count": 94,
   "metadata": {},
   "outputs": [],
   "source": [
    "X_train = X_train.reshape(X_train.shape[0], 28, 28, 1)\n",
    "X_test = X_test.reshape(X_test.shape[0], 28, 28, 1)"
   ]
  },
  {
   "cell_type": "code",
   "execution_count": 95,
   "metadata": {},
   "outputs": [
    {
     "data": {
      "text/plain": [
       "(60000, 28, 28, 1)"
      ]
     },
     "execution_count": 95,
     "metadata": {},
     "output_type": "execute_result"
    }
   ],
   "source": [
    "X_train.shape"
   ]
  },
  {
   "cell_type": "code",
   "execution_count": 96,
   "metadata": {},
   "outputs": [
    {
     "data": {
      "text/plain": [
       "(10000, 28, 28, 1)"
      ]
     },
     "execution_count": 96,
     "metadata": {},
     "output_type": "execute_result"
    }
   ],
   "source": [
    "X_test.shape"
   ]
  },
  {
   "cell_type": "code",
   "execution_count": 97,
   "metadata": {},
   "outputs": [],
   "source": [
    "#train and validation data split"
   ]
  },
  {
   "cell_type": "code",
   "execution_count": 98,
   "metadata": {},
   "outputs": [],
   "source": [
    "X_train, X_val, y_cat_train, y_val = train_test_split(X_train, y_cat_train, test_size=0.2, random_state=42)"
   ]
  },
  {
   "cell_type": "code",
   "execution_count": 99,
   "metadata": {},
   "outputs": [
    {
     "data": {
      "text/plain": [
       "(48000, 28, 28, 1)"
      ]
     },
     "execution_count": 99,
     "metadata": {},
     "output_type": "execute_result"
    }
   ],
   "source": [
    "X_train.shape"
   ]
  },
  {
   "cell_type": "code",
   "execution_count": 100,
   "metadata": {},
   "outputs": [],
   "source": [
    "#Structuring a Convolutional Neural Network"
   ]
  },
  {
   "cell_type": "code",
   "execution_count": 101,
   "metadata": {},
   "outputs": [],
   "source": [
    "model = Sequential()"
   ]
  },
  {
   "cell_type": "code",
   "execution_count": 102,
   "metadata": {},
   "outputs": [],
   "source": [
    "model.add(Conv2D(filters = 32, kernel_size= (4,4), padding = 'same', input_shape = (28,28,1), activation= 'relu'))\n",
    "#model.add(BatchNormalization())\n",
    "model.add(MaxPool2D(pool_size=(2,2)))\n",
    "model.add(Conv2D(filters = 64, kernel_size= (4,4), padding = 'same', input_shape = (28,28,1), activation= 'relu'))\n",
    "#model.add(BatchNormalization())\n",
    "model.add(MaxPool2D(pool_size=(2,2)))\n",
    "model.add(Dropout(rate = 0.3))\n",
    "model.add(BatchNormalization())\n",
    "model.add(Flatten())\n",
    "model.add(Dense(128, activation='relu'))\n",
    "model.add(Dense(10, activation='softmax'))\n",
    "\n",
    "model.compile(optimizer = 'adam', loss = 'categorical_crossentropy', metrics = ['accuracy'])"
   ]
  },
  {
   "cell_type": "code",
   "execution_count": 103,
   "metadata": {},
   "outputs": [
    {
     "name": "stdout",
     "output_type": "stream",
     "text": [
      "Model: \"sequential_3\"\n",
      "_________________________________________________________________\n",
      "Layer (type)                 Output Shape              Param #   \n",
      "=================================================================\n",
      "conv2d_16 (Conv2D)           (None, 28, 28, 32)        544       \n",
      "_________________________________________________________________\n",
      "max_pooling2d_11 (MaxPooling (None, 14, 14, 32)        0         \n",
      "_________________________________________________________________\n",
      "conv2d_17 (Conv2D)           (None, 14, 14, 64)        32832     \n",
      "_________________________________________________________________\n",
      "max_pooling2d_12 (MaxPooling (None, 7, 7, 64)          0         \n",
      "_________________________________________________________________\n",
      "dropout_9 (Dropout)          (None, 7, 7, 64)          0         \n",
      "_________________________________________________________________\n",
      "batch_normalization_3 (Batch (None, 7, 7, 64)          256       \n",
      "_________________________________________________________________\n",
      "flatten_3 (Flatten)          (None, 3136)              0         \n",
      "_________________________________________________________________\n",
      "dense_8 (Dense)              (None, 128)               401536    \n",
      "_________________________________________________________________\n",
      "dense_9 (Dense)              (None, 10)                1290      \n",
      "=================================================================\n",
      "Total params: 436,458\n",
      "Trainable params: 436,330\n",
      "Non-trainable params: 128\n",
      "_________________________________________________________________\n"
     ]
    }
   ],
   "source": [
    "model.summary()"
   ]
  },
  {
   "cell_type": "code",
   "execution_count": 104,
   "metadata": {},
   "outputs": [
    {
     "data": {
      "image/png": "[encoded data removed]",
      "text/plain": [
       "<PIL.Image.Image image mode=RGBA size=596x150 at 0x277AC8B18C8>"
      ]
     },
     "execution_count": 104,
     "metadata": {},
     "output_type": "execute_result"
    }
   ],
   "source": [
    "visualkeras.layered_view(model)"
   ]
  },
  {
   "cell_type": "code",
   "execution_count": 105,
   "metadata": {},
   "outputs": [],
   "source": [
    "#Earlystopping to prevent overfitting"
   ]
  },
  {
   "cell_type": "code",
   "execution_count": 106,
   "metadata": {},
   "outputs": [],
   "source": [
    "early_stop = EarlyStopping(monitor = 'val_loss', patience = 25)"
   ]
  },
  {
   "cell_type": "code",
   "execution_count": 108,
   "metadata": {
    "scrolled": true
   },
   "outputs": [
    {
     "name": "stdout",
     "output_type": "stream",
     "text": [
      "Train on 48000 samples, validate on 12000 samples\n",
      "Epoch 1/100\n",
      "48000/48000 [==============================] - 76s 2ms/sample - loss: 0.4031 - accuracy: 0.8520 - val_loss: 0.2846 - val_accuracy: 0.8957\n",
      "Epoch 2/100\n",
      "48000/48000 [==============================] - 75s 2ms/sample - loss: 0.2742 - accuracy: 0.8987 - val_loss: 0.2697 - val_accuracy: 0.9018\n",
      "Epoch 3/100\n",
      "48000/48000 [==============================] - 73s 2ms/sample - loss: 0.2377 - accuracy: 0.9103 - val_loss: 0.2453 - val_accuracy: 0.9107\n",
      "Epoch 4/100\n",
      "48000/48000 [==============================] - 73s 2ms/sample - loss: 0.2111 - accuracy: 0.9198 - val_loss: 0.2464 - val_accuracy: 0.9116\n",
      "Epoch 5/100\n",
      "48000/48000 [==============================] - 74s 2ms/sample - loss: 0.1902 - accuracy: 0.9272 - val_loss: 0.2520 - val_accuracy: 0.9118\n",
      "Epoch 6/100\n",
      "48000/48000 [==============================] - 74s 2ms/sample - loss: 0.1735 - accuracy: 0.9339 - val_loss: 0.2450 - val_accuracy: 0.9183\n",
      "Epoch 7/100\n",
      "48000/48000 [==============================] - 73s 2ms/sample - loss: 0.1575 - accuracy: 0.9405 - val_loss: 0.2500 - val_accuracy: 0.9194\n",
      "Epoch 8/100\n",
      "48000/48000 [==============================] - 74s 2ms/sample - loss: 0.1431 - accuracy: 0.9457 - val_loss: 0.2643 - val_accuracy: 0.9175\n",
      "Epoch 9/100\n",
      "48000/48000 [==============================] - 73s 2ms/sample - loss: 0.1319 - accuracy: 0.9501 - val_loss: 0.2443 - val_accuracy: 0.9205\n",
      "Epoch 10/100\n",
      "48000/48000 [==============================] - 73s 2ms/sample - loss: 0.1233 - accuracy: 0.9538 - val_loss: 0.2683 - val_accuracy: 0.9142\n",
      "Epoch 11/100\n",
      "48000/48000 [==============================] - 73s 2ms/sample - loss: 0.1157 - accuracy: 0.9559 - val_loss: 0.2873 - val_accuracy: 0.9190\n",
      "Epoch 12/100\n",
      "48000/48000 [==============================] - 74s 2ms/sample - loss: 0.1061 - accuracy: 0.9591 - val_loss: 0.2756 - val_accuracy: 0.9172\n",
      "Epoch 13/100\n",
      "48000/48000 [==============================] - 74s 2ms/sample - loss: 0.1000 - accuracy: 0.9619 - val_loss: 0.2808 - val_accuracy: 0.9193\n",
      "Epoch 14/100\n",
      "48000/48000 [==============================] - 75s 2ms/sample - loss: 0.0953 - accuracy: 0.9640 - val_loss: 0.2853 - val_accuracy: 0.9174\n",
      "Epoch 15/100\n",
      "48000/48000 [==============================] - 74s 2ms/sample - loss: 0.0864 - accuracy: 0.9670 - val_loss: 0.3307 - val_accuracy: 0.9161\n",
      "Epoch 16/100\n",
      "48000/48000 [==============================] - 73s 2ms/sample - loss: 0.0848 - accuracy: 0.9693 - val_loss: 0.2939 - val_accuracy: 0.9208\n",
      "Epoch 17/100\n",
      "48000/48000 [==============================] - 74s 2ms/sample - loss: 0.0802 - accuracy: 0.9705 - val_loss: 0.3379 - val_accuracy: 0.9184\n",
      "Epoch 18/100\n",
      "48000/48000 [==============================] - 73s 2ms/sample - loss: 0.0760 - accuracy: 0.9715 - val_loss: 0.3227 - val_accuracy: 0.9190\n",
      "Epoch 19/100\n",
      "48000/48000 [==============================] - 74s 2ms/sample - loss: 0.0704 - accuracy: 0.9741 - val_loss: 0.3108 - val_accuracy: 0.9194\n",
      "Epoch 20/100\n",
      "48000/48000 [==============================] - 75s 2ms/sample - loss: 0.0721 - accuracy: 0.9734 - val_loss: 0.3355 - val_accuracy: 0.9212\n",
      "Epoch 21/100\n",
      "48000/48000 [==============================] - 74s 2ms/sample - loss: 0.0659 - accuracy: 0.9761 - val_loss: 0.3469 - val_accuracy: 0.9178\n",
      "Epoch 22/100\n",
      "48000/48000 [==============================] - 74s 2ms/sample - loss: 0.0638 - accuracy: 0.9763 - val_loss: 0.3381 - val_accuracy: 0.9234\n",
      "Epoch 23/100\n",
      "48000/48000 [==============================] - 74s 2ms/sample - loss: 0.0610 - accuracy: 0.9770 - val_loss: 0.3374 - val_accuracy: 0.9201\n",
      "Epoch 24/100\n",
      "48000/48000 [==============================] - 74s 2ms/sample - loss: 0.0600 - accuracy: 0.9774 - val_loss: 0.3533 - val_accuracy: 0.9206\n",
      "Epoch 25/100\n",
      "48000/48000 [==============================] - 74s 2ms/sample - loss: 0.0542 - accuracy: 0.9800 - val_loss: 0.3757 - val_accuracy: 0.9179\n",
      "Epoch 26/100\n",
      "48000/48000 [==============================] - 74s 2ms/sample - loss: 0.0517 - accuracy: 0.9814 - val_loss: 0.3686 - val_accuracy: 0.9205\n",
      "Epoch 27/100\n",
      "48000/48000 [==============================] - 74s 2ms/sample - loss: 0.0509 - accuracy: 0.9820 - val_loss: 0.4195 - val_accuracy: 0.9149\n",
      "Epoch 28/100\n",
      "48000/48000 [==============================] - 74s 2ms/sample - loss: 0.0472 - accuracy: 0.9822 - val_loss: 0.3871 - val_accuracy: 0.9231\n",
      "Epoch 29/100\n",
      "48000/48000 [==============================] - 74s 2ms/sample - loss: 0.0511 - accuracy: 0.9820 - val_loss: 0.4186 - val_accuracy: 0.9199\n",
      "Epoch 30/100\n",
      "48000/48000 [==============================] - 73s 2ms/sample - loss: 0.0452 - accuracy: 0.9835 - val_loss: 0.4299 - val_accuracy: 0.9243\n",
      "Epoch 31/100\n",
      "48000/48000 [==============================] - 73s 2ms/sample - loss: 0.0454 - accuracy: 0.9840 - val_loss: 0.3892 - val_accuracy: 0.9218\n",
      "Epoch 32/100\n",
      "48000/48000 [==============================] - 74s 2ms/sample - loss: 0.0414 - accuracy: 0.9850 - val_loss: 0.4145 - val_accuracy: 0.9202\n",
      "Epoch 33/100\n",
      "48000/48000 [==============================] - 73s 2ms/sample - loss: 0.0439 - accuracy: 0.9842 - val_loss: 0.5438 - val_accuracy: 0.9102\n",
      "Epoch 34/100\n",
      "48000/48000 [==============================] - 74s 2ms/sample - loss: 0.0396 - accuracy: 0.9864 - val_loss: 0.3941 - val_accuracy: 0.9210\n"
     ]
    },
    {
     "data": {
      "text/plain": [
       "<tensorflow.python.keras.callbacks.History at 0x277e0206548>"
      ]
     },
     "execution_count": 108,
     "metadata": {},
     "output_type": "execute_result"
    }
   ],
   "source": [
    "model.fit(x = X_train, y = y_cat_train, batch_size = 32, epochs = 100, validation_data = (X_val, y_val), \n",
    "          callbacks = [early_stop])"
   ]
  },
  {
   "cell_type": "code",
   "execution_count": 109,
   "metadata": {},
   "outputs": [],
   "source": [
    "metrics = pd.DataFrame(model.history.history)"
   ]
  },
  {
   "cell_type": "code",
   "execution_count": 110,
   "metadata": {},
   "outputs": [
    {
     "data": {
      "text/html": [
       "<div>\n",
       "<style scoped>\n",
       "    .dataframe tbody tr th:only-of-type {\n",
       "        vertical-align: middle;\n",
       "    }\n",
       "\n",
       "    .dataframe tbody tr th {\n",
       "        vertical-align: top;\n",
       "    }\n",
       "\n",
       "    .dataframe thead th {\n",
       "        text-align: right;\n",
       "    }\n",
       "</style>\n",
       "<table border=\"1\" class=\"dataframe\">\n",
       "  <thead>\n",
       "    <tr style=\"text-align: right;\">\n",
       "      <th></th>\n",
       "      <th>loss</th>\n",
       "      <th>accuracy</th>\n",
       "      <th>val_loss</th>\n",
       "      <th>val_accuracy</th>\n",
       "    </tr>\n",
       "  </thead>\n",
       "  <tbody>\n",
       "    <tr>\n",
       "      <th>0</th>\n",
       "      <td>0.403061</td>\n",
       "      <td>0.851979</td>\n",
       "      <td>0.284629</td>\n",
       "      <td>0.895667</td>\n",
       "    </tr>\n",
       "    <tr>\n",
       "      <th>1</th>\n",
       "      <td>0.274178</td>\n",
       "      <td>0.898729</td>\n",
       "      <td>0.269711</td>\n",
       "      <td>0.901833</td>\n",
       "    </tr>\n",
       "    <tr>\n",
       "      <th>2</th>\n",
       "      <td>0.237703</td>\n",
       "      <td>0.910292</td>\n",
       "      <td>0.245301</td>\n",
       "      <td>0.910750</td>\n",
       "    </tr>\n",
       "    <tr>\n",
       "      <th>3</th>\n",
       "      <td>0.211119</td>\n",
       "      <td>0.919813</td>\n",
       "      <td>0.246408</td>\n",
       "      <td>0.911583</td>\n",
       "    </tr>\n",
       "    <tr>\n",
       "      <th>4</th>\n",
       "      <td>0.190248</td>\n",
       "      <td>0.927167</td>\n",
       "      <td>0.251995</td>\n",
       "      <td>0.911750</td>\n",
       "    </tr>\n",
       "  </tbody>\n",
       "</table>\n",
       "</div>"
      ],
      "text/plain": [
       "       loss  accuracy  val_loss  val_accuracy\n",
       "0  0.403061  0.851979  0.284629      0.895667\n",
       "1  0.274178  0.898729  0.269711      0.901833\n",
       "2  0.237703  0.910292  0.245301      0.910750\n",
       "3  0.211119  0.919813  0.246408      0.911583\n",
       "4  0.190248  0.927167  0.251995      0.911750"
      ]
     },
     "execution_count": 110,
     "metadata": {},
     "output_type": "execute_result"
    }
   ],
   "source": [
    "metrics.head()"
   ]
  },
  {
   "cell_type": "code",
   "execution_count": 111,
   "metadata": {},
   "outputs": [
    {
     "data": {
      "text/plain": [
       "<matplotlib.axes._subplots.AxesSubplot at 0x277aeade248>"
      ]
     },
     "execution_count": 111,
     "metadata": {},
     "output_type": "execute_result"
    },
    {
     "data": {
      "image/png": "[encoded data removed]",
      "text/plain": [
       "<Figure size 432x288 with 1 Axes>"
      ]
     },
     "metadata": {
      "needs_background": "light"
     },
     "output_type": "display_data"
    }
   ],
   "source": [
    "metrics[['loss', 'val_loss']].plot()"
   ]
  },
  {
   "cell_type": "code",
   "execution_count": 112,
   "metadata": {},
   "outputs": [
    {
     "data": {
      "text/plain": [
       "<matplotlib.axes._subplots.AxesSubplot at 0x277aeb52748>"
      ]
     },
     "execution_count": 112,
     "metadata": {},
     "output_type": "execute_result"
    },
    {
     "data": {
      "image/png": "[encoded data removed]",
      "text/plain": [
       "<Figure size 432x288 with 1 Axes>"
      ]
     },
     "metadata": {
      "needs_background": "light"
     },
     "output_type": "display_data"
    }
   ],
   "source": [
    "metrics[['accuracy', 'val_accuracy']].plot()"
   ]
  },
  {
   "cell_type": "code",
   "execution_count": 113,
   "metadata": {},
   "outputs": [],
   "source": [
    "#The model is overfitting as the validation loss is going up and the validation accuracy is going down"
   ]
  },
  {
   "cell_type": "code",
   "execution_count": 114,
   "metadata": {},
   "outputs": [
    {
     "data": {
      "text/plain": [
       "['loss', 'accuracy']"
      ]
     },
     "execution_count": 114,
     "metadata": {},
     "output_type": "execute_result"
    }
   ],
   "source": [
    "model.metrics_names"
   ]
  },
  {
   "cell_type": "code",
   "execution_count": 116,
   "metadata": {},
   "outputs": [
    {
     "data": {
      "text/plain": [
       "[0.35635671381726863, 0.9235]"
      ]
     },
     "execution_count": 116,
     "metadata": {},
     "output_type": "execute_result"
    }
   ],
   "source": [
    "model.evaluate(X_test, y_cat_test, verbose = 0)"
   ]
  },
  {
   "cell_type": "code",
   "execution_count": null,
   "metadata": {},
   "outputs": [],
   "source": [
    "#second one"
   ]
  },
  {
   "cell_type": "code",
   "execution_count": 117,
   "metadata": {},
   "outputs": [],
   "source": [
    "model = Sequential()\n",
    "\n",
    "model.add(Conv2D(filters = 32, kernel_size= (4,4), padding = 'same', input_shape = (28,28,1), activation= 'relu'))\n",
    "#model.add(BatchNormalization())\n",
    "model.add(MaxPool2D(pool_size=(2,2)))\n",
    "model.add(Conv2D(filters = 64, kernel_size= (4,4), padding = 'same', input_shape = (28,28,1), activation= 'relu'))\n",
    "#model.add(BatchNormalization())\n",
    "model.add(MaxPool2D(pool_size=(2,2)))\n",
    "model.add(Dropout(rate = 0.3))\n",
    "model.add(BatchNormalization())\n",
    "model.add(Conv2D(filters = 128, kernel_size= (4,4), padding = 'same', input_shape = (28,28,1), activation= 'relu'))\n",
    "model.add(Conv2D(filters = 128, kernel_size= (4,4), padding = 'same', input_shape = (28,28,1), activation= 'relu'))\n",
    "model.add(Dropout(rate = 0.3))\n",
    "model.add(BatchNormalization())\n",
    "model.add(MaxPool2D(pool_size=(2,2)))\n",
    "model.add(BatchNormalization())\n",
    "model.add(Dropout(rate = 0.3))\n",
    "model.add(Flatten())\n",
    "model.add(Dense(128, activation='relu'))\n",
    "model.add(Dropout(rate = 0.3))\n",
    "model.add(Dense(10, activation='softmax'))\n",
    "\n",
    "opt = Adam(lr=0.001, beta_1=0.9, beta_2=0.999, epsilon=None, decay=0.0, amsgrad=False)\n",
    "\n",
    "model.compile(optimizer = opt, loss = 'categorical_crossentropy', metrics = ['accuracy'])"
   ]
  },
  {
   "cell_type": "code",
   "execution_count": 118,
   "metadata": {},
   "outputs": [
    {
     "name": "stdout",
     "output_type": "stream",
     "text": [
      "Model: \"sequential_4\"\n",
      "_________________________________________________________________\n",
      "Layer (type)                 Output Shape              Param #   \n",
      "=================================================================\n",
      "conv2d_18 (Conv2D)           (None, 28, 28, 32)        544       \n",
      "_________________________________________________________________\n",
      "max_pooling2d_13 (MaxPooling (None, 14, 14, 32)        0         \n",
      "_________________________________________________________________\n",
      "conv2d_19 (Conv2D)           (None, 14, 14, 64)        32832     \n",
      "_________________________________________________________________\n",
      "max_pooling2d_14 (MaxPooling (None, 7, 7, 64)          0         \n",
      "_________________________________________________________________\n",
      "dropout_10 (Dropout)         (None, 7, 7, 64)          0         \n",
      "_________________________________________________________________\n",
      "batch_normalization_4 (Batch (None, 7, 7, 64)          256       \n",
      "_________________________________________________________________\n",
      "conv2d_20 (Conv2D)           (None, 7, 7, 128)         131200    \n",
      "_________________________________________________________________\n",
      "conv2d_21 (Conv2D)           (None, 7, 7, 128)         262272    \n",
      "_________________________________________________________________\n",
      "dropout_11 (Dropout)         (None, 7, 7, 128)         0         \n",
      "_________________________________________________________________\n",
      "batch_normalization_5 (Batch (None, 7, 7, 128)         512       \n",
      "_________________________________________________________________\n",
      "max_pooling2d_15 (MaxPooling (None, 3, 3, 128)         0         \n",
      "_________________________________________________________________\n",
      "batch_normalization_6 (Batch (None, 3, 3, 128)         512       \n",
      "_________________________________________________________________\n",
      "dropout_12 (Dropout)         (None, 3, 3, 128)         0         \n",
      "_________________________________________________________________\n",
      "flatten_4 (Flatten)          (None, 1152)              0         \n",
      "_________________________________________________________________\n",
      "dense_10 (Dense)             (None, 128)               147584    \n",
      "_________________________________________________________________\n",
      "dropout_13 (Dropout)         (None, 128)               0         \n",
      "_________________________________________________________________\n",
      "dense_11 (Dense)             (None, 10)                1290      \n",
      "=================================================================\n",
      "Total params: 577,002\n",
      "Trainable params: 576,362\n",
      "Non-trainable params: 640\n",
      "_________________________________________________________________\n"
     ]
    }
   ],
   "source": [
    "model.summary()"
   ]
  },
  {
   "cell_type": "code",
   "execution_count": 119,
   "metadata": {},
   "outputs": [
    {
     "data": {
      "image/png": "[encoded data removed]",
      "text/plain": [
       "<PIL.Image.Image image mode=RGBA size=638x150 at 0x277AEBB9548>"
      ]
     },
     "execution_count": 119,
     "metadata": {},
     "output_type": "execute_result"
    }
   ],
   "source": [
    "visualkeras.layered_view(model)"
   ]
  },
  {
   "cell_type": "code",
   "execution_count": 120,
   "metadata": {},
   "outputs": [],
   "source": [
    "early_stop = EarlyStopping(monitor = 'val_loss', patience = 25)"
   ]
  },
  {
   "cell_type": "code",
   "execution_count": 121,
   "metadata": {},
   "outputs": [],
   "source": [
    "#plot_model(model, to_file= 'model.png')"
   ]
  },
  {
   "cell_type": "code",
   "execution_count": 122,
   "metadata": {
    "scrolled": true
   },
   "outputs": [
    {
     "name": "stdout",
     "output_type": "stream",
     "text": [
      "Train on 48000 samples, validate on 12000 samples\n",
      "Epoch 1/100\n",
      "48000/48000 [==============================] - 130s 3ms/sample - loss: 0.6014 - accuracy: 0.7762 - val_loss: 2.2927 - val_accuracy: 0.2757\n",
      "Epoch 2/100\n",
      "48000/48000 [==============================] - 127s 3ms/sample - loss: 0.3736 - accuracy: 0.8643 - val_loss: 0.3021 - val_accuracy: 0.8870\n",
      "Epoch 3/100\n",
      "48000/48000 [==============================] - 128s 3ms/sample - loss: 0.3191 - accuracy: 0.8835 - val_loss: 0.3109 - val_accuracy: 0.8781\n",
      "Epoch 4/100\n",
      "48000/48000 [==============================] - 128s 3ms/sample - loss: 0.2911 - accuracy: 0.8949 - val_loss: 0.2513 - val_accuracy: 0.9073\n",
      "Epoch 5/100\n",
      "48000/48000 [==============================] - 129s 3ms/sample - loss: 0.2723 - accuracy: 0.9012 - val_loss: 0.2451 - val_accuracy: 0.9093\n",
      "Epoch 6/100\n",
      "48000/48000 [==============================] - 131s 3ms/sample - loss: 0.2562 - accuracy: 0.9045 - val_loss: 0.2366 - val_accuracy: 0.9085\n",
      "Epoch 7/100\n",
      "48000/48000 [==============================] - 130s 3ms/sample - loss: 0.2380 - accuracy: 0.9126 - val_loss: 0.2491 - val_accuracy: 0.9017\n",
      "Epoch 8/100\n",
      "48000/48000 [==============================] - 129s 3ms/sample - loss: 0.2335 - accuracy: 0.9148 - val_loss: 0.2717 - val_accuracy: 0.9043\n",
      "Epoch 9/100\n",
      "48000/48000 [==============================] - 131s 3ms/sample - loss: 0.2209 - accuracy: 0.9194 - val_loss: 0.2117 - val_accuracy: 0.9218\n",
      "Epoch 10/100\n",
      "48000/48000 [==============================] - 128s 3ms/sample - loss: 0.2165 - accuracy: 0.9191 - val_loss: 0.2313 - val_accuracy: 0.9172\n",
      "Epoch 11/100\n",
      "48000/48000 [==============================] - 128s 3ms/sample - loss: 0.2084 - accuracy: 0.9227 - val_loss: 0.2422 - val_accuracy: 0.9053\n",
      "Epoch 12/100\n",
      "48000/48000 [==============================] - 134s 3ms/sample - loss: 0.1959 - accuracy: 0.9277 - val_loss: 0.2172 - val_accuracy: 0.9196\n",
      "Epoch 13/100\n",
      "48000/48000 [==============================] - 129s 3ms/sample - loss: 0.1898 - accuracy: 0.9286 - val_loss: 0.2202 - val_accuracy: 0.9249\n",
      "Epoch 14/100\n",
      "48000/48000 [==============================] - 129s 3ms/sample - loss: 0.1875 - accuracy: 0.9312 - val_loss: 0.2327 - val_accuracy: 0.9133\n",
      "Epoch 15/100\n",
      "48000/48000 [==============================] - 128s 3ms/sample - loss: 0.1749 - accuracy: 0.9336 - val_loss: 0.2352 - val_accuracy: 0.9132\n",
      "Epoch 16/100\n",
      "48000/48000 [==============================] - 129s 3ms/sample - loss: 0.1729 - accuracy: 0.9353 - val_loss: 0.2110 - val_accuracy: 0.9269\n",
      "Epoch 17/100\n",
      "48000/48000 [==============================] - 129s 3ms/sample - loss: 0.1672 - accuracy: 0.9373 - val_loss: 0.2093 - val_accuracy: 0.9244\n",
      "Epoch 18/100\n",
      "48000/48000 [==============================] - 129s 3ms/sample - loss: 0.1634 - accuracy: 0.9383 - val_loss: 0.2110 - val_accuracy: 0.9258\n",
      "Epoch 19/100\n",
      "48000/48000 [==============================] - 129s 3ms/sample - loss: 0.1621 - accuracy: 0.9396 - val_loss: 0.2127 - val_accuracy: 0.9267\n",
      "Epoch 20/100\n",
      "48000/48000 [==============================] - 129s 3ms/sample - loss: 0.1514 - accuracy: 0.9437 - val_loss: 0.2237 - val_accuracy: 0.9245\n",
      "Epoch 21/100\n",
      "48000/48000 [==============================] - 129s 3ms/sample - loss: 0.1467 - accuracy: 0.9454 - val_loss: 0.2129 - val_accuracy: 0.9244\n",
      "Epoch 22/100\n",
      "48000/48000 [==============================] - 128s 3ms/sample - loss: 0.1418 - accuracy: 0.9476 - val_loss: 0.2340 - val_accuracy: 0.9177\n",
      "Epoch 23/100\n",
      "48000/48000 [==============================] - 129s 3ms/sample - loss: 0.1403 - accuracy: 0.9476 - val_loss: 0.2275 - val_accuracy: 0.9214\n",
      "Epoch 24/100\n",
      "48000/48000 [==============================] - 129s 3ms/sample - loss: 0.1362 - accuracy: 0.9490 - val_loss: 0.2685 - val_accuracy: 0.9233\n",
      "Epoch 25/100\n",
      "48000/48000 [==============================] - 128s 3ms/sample - loss: 0.1307 - accuracy: 0.9517 - val_loss: 0.2165 - val_accuracy: 0.9268\n",
      "Epoch 26/100\n",
      "48000/48000 [==============================] - 128s 3ms/sample - loss: 0.1252 - accuracy: 0.9525 - val_loss: 0.2232 - val_accuracy: 0.9239\n",
      "Epoch 27/100\n",
      "48000/48000 [==============================] - 128s 3ms/sample - loss: 0.1280 - accuracy: 0.9526 - val_loss: 0.2207 - val_accuracy: 0.9266\n",
      "Epoch 28/100\n",
      "48000/48000 [==============================] - 130s 3ms/sample - loss: 0.1213 - accuracy: 0.9538 - val_loss: 0.2064 - val_accuracy: 0.9292\n",
      "Epoch 29/100\n",
      "48000/48000 [==============================] - 132s 3ms/sample - loss: 0.1187 - accuracy: 0.9552 - val_loss: 0.2192 - val_accuracy: 0.9295\n",
      "Epoch 30/100\n",
      "48000/48000 [==============================] - 128s 3ms/sample - loss: 0.1129 - accuracy: 0.9571 - val_loss: 0.2370 - val_accuracy: 0.9252\n",
      "Epoch 31/100\n",
      "48000/48000 [==============================] - 128s 3ms/sample - loss: 0.1150 - accuracy: 0.9567 - val_loss: 0.2175 - val_accuracy: 0.9295\n",
      "Epoch 32/100\n",
      "48000/48000 [==============================] - 129s 3ms/sample - loss: 0.1125 - accuracy: 0.9566 - val_loss: 0.2578 - val_accuracy: 0.9197\n",
      "Epoch 33/100\n",
      "48000/48000 [==============================] - 128s 3ms/sample - loss: 0.1091 - accuracy: 0.9588 - val_loss: 0.2231 - val_accuracy: 0.9312\n",
      "Epoch 34/100\n",
      "48000/48000 [==============================] - 129s 3ms/sample - loss: 0.1047 - accuracy: 0.9615 - val_loss: 0.2555 - val_accuracy: 0.9231\n",
      "Epoch 35/100\n",
      "48000/48000 [==============================] - 128s 3ms/sample - loss: 0.1030 - accuracy: 0.9616 - val_loss: 0.2409 - val_accuracy: 0.9283\n",
      "Epoch 36/100\n",
      "48000/48000 [==============================] - 128s 3ms/sample - loss: 0.1022 - accuracy: 0.9621 - val_loss: 0.2439 - val_accuracy: 0.9260\n",
      "Epoch 37/100\n",
      "48000/48000 [==============================] - 124s 3ms/sample - loss: 0.0997 - accuracy: 0.9625 - val_loss: 0.2324 - val_accuracy: 0.9318\n",
      "Epoch 38/100\n",
      "48000/48000 [==============================] - 93s 2ms/sample - loss: 0.0975 - accuracy: 0.9635 - val_loss: 0.2287 - val_accuracy: 0.9327\n",
      "Epoch 39/100\n",
      "48000/48000 [==============================] - 86s 2ms/sample - loss: 0.0959 - accuracy: 0.9650 - val_loss: 0.2249 - val_accuracy: 0.9285\n",
      "Epoch 40/100\n",
      "48000/48000 [==============================] - 84s 2ms/sample - loss: 0.0896 - accuracy: 0.9659 - val_loss: 0.2486 - val_accuracy: 0.9298\n",
      "Epoch 41/100\n",
      "48000/48000 [==============================] - 85s 2ms/sample - loss: 0.0915 - accuracy: 0.9646 - val_loss: 0.2476 - val_accuracy: 0.9312\n",
      "Epoch 42/100\n",
      "48000/48000 [==============================] - 83s 2ms/sample - loss: 0.0873 - accuracy: 0.9677 - val_loss: 0.2568 - val_accuracy: 0.9262\n",
      "Epoch 43/100\n",
      "48000/48000 [==============================] - 84s 2ms/sample - loss: 0.0854 - accuracy: 0.9673 - val_loss: 0.2515 - val_accuracy: 0.9265\n",
      "Epoch 44/100\n",
      "48000/48000 [==============================] - 87s 2ms/sample - loss: 0.0870 - accuracy: 0.9678 - val_loss: 0.2402 - val_accuracy: 0.9308\n",
      "Epoch 45/100\n",
      "48000/48000 [==============================] - 86s 2ms/sample - loss: 0.0818 - accuracy: 0.9692 - val_loss: 0.2430 - val_accuracy: 0.9283\n",
      "Epoch 46/100\n",
      "48000/48000 [==============================] - 86s 2ms/sample - loss: 0.0855 - accuracy: 0.9684 - val_loss: 0.2508 - val_accuracy: 0.9295\n",
      "Epoch 47/100\n",
      "48000/48000 [==============================] - 86s 2ms/sample - loss: 0.0822 - accuracy: 0.9693 - val_loss: 0.2590 - val_accuracy: 0.9285\n",
      "Epoch 48/100\n",
      "48000/48000 [==============================] - 87s 2ms/sample - loss: 0.0835 - accuracy: 0.9685 - val_loss: 0.2388 - val_accuracy: 0.9315\n",
      "Epoch 49/100\n",
      "48000/48000 [==============================] - 86s 2ms/sample - loss: 0.0780 - accuracy: 0.9707 - val_loss: 0.2474 - val_accuracy: 0.9296\n",
      "Epoch 50/100\n",
      "48000/48000 [==============================] - 86s 2ms/sample - loss: 0.0782 - accuracy: 0.9717 - val_loss: 0.2393 - val_accuracy: 0.9313\n",
      "Epoch 51/100\n",
      "48000/48000 [==============================] - 88s 2ms/sample - loss: 0.0777 - accuracy: 0.9714 - val_loss: 0.2682 - val_accuracy: 0.9290\n",
      "Epoch 52/100\n",
      "48000/48000 [==============================] - 88s 2ms/sample - loss: 0.0731 - accuracy: 0.9720 - val_loss: 0.2547 - val_accuracy: 0.9327\n",
      "Epoch 53/100\n",
      "48000/48000 [==============================] - 85s 2ms/sample - loss: 0.0740 - accuracy: 0.9725 - val_loss: 0.2673 - val_accuracy: 0.9303\n",
      "Epoch 54/100\n",
      "48000/48000 [==============================] - 82s 2ms/sample - loss: 0.0745 - accuracy: 0.9728 - val_loss: 0.2749 - val_accuracy: 0.9278\n"
     ]
    },
    {
     "name": "stdout",
     "output_type": "stream",
     "text": [
      "Epoch 55/100\n",
      "48000/48000 [==============================] - 84s 2ms/sample - loss: 0.0713 - accuracy: 0.9736 - val_loss: 0.2690 - val_accuracy: 0.9291\n",
      "Epoch 56/100\n",
      "48000/48000 [==============================] - 83s 2ms/sample - loss: 0.0689 - accuracy: 0.9743 - val_loss: 0.2538 - val_accuracy: 0.9326\n",
      "Epoch 57/100\n",
      "48000/48000 [==============================] - 82s 2ms/sample - loss: 0.0698 - accuracy: 0.9747 - val_loss: 0.2696 - val_accuracy: 0.9250\n",
      "Epoch 58/100\n",
      "48000/48000 [==============================] - 83s 2ms/sample - loss: 0.0681 - accuracy: 0.9747 - val_loss: 0.2724 - val_accuracy: 0.9262\n",
      "Epoch 59/100\n",
      "48000/48000 [==============================] - 83s 2ms/sample - loss: 0.0652 - accuracy: 0.9760 - val_loss: 0.2635 - val_accuracy: 0.9323\n",
      "Epoch 60/100\n",
      "48000/48000 [==============================] - 82s 2ms/sample - loss: 0.0657 - accuracy: 0.9747 - val_loss: 0.2750 - val_accuracy: 0.9273\n",
      "Epoch 61/100\n",
      "48000/48000 [==============================] - 82s 2ms/sample - loss: 0.0672 - accuracy: 0.9758 - val_loss: 0.2535 - val_accuracy: 0.9327\n",
      "Epoch 62/100\n",
      "48000/48000 [==============================] - 82s 2ms/sample - loss: 0.0631 - accuracy: 0.9772 - val_loss: 0.2821 - val_accuracy: 0.9269\n",
      "Epoch 63/100\n",
      "48000/48000 [==============================] - 82s 2ms/sample - loss: 0.0649 - accuracy: 0.9755 - val_loss: 0.2828 - val_accuracy: 0.9286\n",
      "Epoch 64/100\n",
      "48000/48000 [==============================] - 82s 2ms/sample - loss: 0.0648 - accuracy: 0.9763 - val_loss: 0.2895 - val_accuracy: 0.9264\n",
      "Epoch 65/100\n",
      "48000/48000 [==============================] - 82s 2ms/sample - loss: 0.0632 - accuracy: 0.9760 - val_loss: 0.2668 - val_accuracy: 0.9314\n",
      "Epoch 66/100\n",
      "48000/48000 [==============================] - 82s 2ms/sample - loss: 0.0626 - accuracy: 0.9767 - val_loss: 0.2709 - val_accuracy: 0.9301\n",
      "Epoch 67/100\n",
      "48000/48000 [==============================] - 82s 2ms/sample - loss: 0.0588 - accuracy: 0.9787 - val_loss: 0.2758 - val_accuracy: 0.9303\n",
      "Epoch 68/100\n",
      "48000/48000 [==============================] - 82s 2ms/sample - loss: 0.0596 - accuracy: 0.9784 - val_loss: 0.2776 - val_accuracy: 0.9312\n",
      "Epoch 69/100\n",
      "48000/48000 [==============================] - 82s 2ms/sample - loss: 0.0568 - accuracy: 0.9789 - val_loss: 0.2744 - val_accuracy: 0.9288\n",
      "Epoch 70/100\n",
      "48000/48000 [==============================] - 82s 2ms/sample - loss: 0.0556 - accuracy: 0.9792 - val_loss: 0.2964 - val_accuracy: 0.9280\n",
      "Epoch 71/100\n",
      "48000/48000 [==============================] - 82s 2ms/sample - loss: 0.0592 - accuracy: 0.9784 - val_loss: 0.2690 - val_accuracy: 0.9336\n",
      "Epoch 72/100\n",
      "48000/48000 [==============================] - 82s 2ms/sample - loss: 0.0575 - accuracy: 0.9790 - val_loss: 0.2615 - val_accuracy: 0.9313\n",
      "Epoch 73/100\n",
      "48000/48000 [==============================] - 82s 2ms/sample - loss: 0.0560 - accuracy: 0.9797 - val_loss: 0.3046 - val_accuracy: 0.9225\n",
      "Epoch 74/100\n",
      "48000/48000 [==============================] - 82s 2ms/sample - loss: 0.0561 - accuracy: 0.9792 - val_loss: 0.2712 - val_accuracy: 0.9297\n",
      "Epoch 75/100\n",
      "48000/48000 [==============================] - 82s 2ms/sample - loss: 0.0546 - accuracy: 0.9804 - val_loss: 0.3027 - val_accuracy: 0.9253\n",
      "Epoch 76/100\n",
      "48000/48000 [==============================] - 82s 2ms/sample - loss: 0.0554 - accuracy: 0.9799 - val_loss: 0.2787 - val_accuracy: 0.9310\n",
      "Epoch 77/100\n",
      "48000/48000 [==============================] - 82s 2ms/sample - loss: 0.0531 - accuracy: 0.9810 - val_loss: 0.2864 - val_accuracy: 0.9277\n",
      "Epoch 78/100\n",
      "48000/48000 [==============================] - 82s 2ms/sample - loss: 0.0529 - accuracy: 0.9808 - val_loss: 0.2723 - val_accuracy: 0.9320\n",
      "Epoch 79/100\n",
      "48000/48000 [==============================] - 82s 2ms/sample - loss: 0.0547 - accuracy: 0.9801 - val_loss: 0.2788 - val_accuracy: 0.9310\n",
      "Epoch 80/100\n",
      "48000/48000 [==============================] - 82s 2ms/sample - loss: 0.0504 - accuracy: 0.9815 - val_loss: 0.2694 - val_accuracy: 0.9342\n",
      "Epoch 81/100\n",
      "48000/48000 [==============================] - 82s 2ms/sample - loss: 0.0498 - accuracy: 0.9819 - val_loss: 0.3087 - val_accuracy: 0.9257\n",
      "Epoch 82/100\n",
      "48000/48000 [==============================] - 81s 2ms/sample - loss: 0.0484 - accuracy: 0.9830 - val_loss: 0.3060 - val_accuracy: 0.9298\n",
      "Epoch 83/100\n",
      "48000/48000 [==============================] - 82s 2ms/sample - loss: 0.0509 - accuracy: 0.9819 - val_loss: 0.3101 - val_accuracy: 0.9312\n",
      "Epoch 84/100\n",
      "48000/48000 [==============================] - 82s 2ms/sample - loss: 0.0467 - accuracy: 0.9839 - val_loss: 0.3028 - val_accuracy: 0.9313\n",
      "Epoch 85/100\n",
      "48000/48000 [==============================] - 82s 2ms/sample - loss: 0.0508 - accuracy: 0.9820 - val_loss: 0.2806 - val_accuracy: 0.9319\n",
      "Epoch 86/100\n",
      "48000/48000 [==============================] - 82s 2ms/sample - loss: 0.0462 - accuracy: 0.9828 - val_loss: 0.2839 - val_accuracy: 0.9321\n",
      "Epoch 87/100\n",
      "48000/48000 [==============================] - 83s 2ms/sample - loss: 0.0447 - accuracy: 0.9835 - val_loss: 0.2983 - val_accuracy: 0.9274\n",
      "Epoch 88/100\n",
      "48000/48000 [==============================] - 85s 2ms/sample - loss: 0.0480 - accuracy: 0.9833 - val_loss: 0.2961 - val_accuracy: 0.9321\n",
      "Epoch 89/100\n",
      "48000/48000 [==============================] - 85s 2ms/sample - loss: 0.0466 - accuracy: 0.9829 - val_loss: 0.2964 - val_accuracy: 0.9282\n",
      "Epoch 90/100\n",
      "48000/48000 [==============================] - 85s 2ms/sample - loss: 0.0461 - accuracy: 0.9833 - val_loss: 0.3094 - val_accuracy: 0.9302\n",
      "Epoch 91/100\n",
      "48000/48000 [==============================] - 86s 2ms/sample - loss: 0.0446 - accuracy: 0.9832 - val_loss: 0.3190 - val_accuracy: 0.9323\n",
      "Epoch 92/100\n",
      "48000/48000 [==============================] - 88s 2ms/sample - loss: 0.0458 - accuracy: 0.9838 - val_loss: 0.2839 - val_accuracy: 0.9298\n",
      "Epoch 93/100\n",
      "48000/48000 [==============================] - 84s 2ms/sample - loss: 0.0473 - accuracy: 0.9828 - val_loss: 0.2887 - val_accuracy: 0.9322\n",
      "Epoch 94/100\n",
      "48000/48000 [==============================] - 82s 2ms/sample - loss: 0.0406 - accuracy: 0.9856 - val_loss: 0.3004 - val_accuracy: 0.9317\n",
      "Epoch 95/100\n",
      "48000/48000 [==============================] - 82s 2ms/sample - loss: 0.0428 - accuracy: 0.9846 - val_loss: 0.3247 - val_accuracy: 0.9293\n",
      "Epoch 96/100\n",
      "48000/48000 [==============================] - 82s 2ms/sample - loss: 0.0428 - accuracy: 0.9846 - val_loss: 0.3086 - val_accuracy: 0.9307\n",
      "Epoch 97/100\n",
      "48000/48000 [==============================] - 82s 2ms/sample - loss: 0.0413 - accuracy: 0.9850 - val_loss: 0.3000 - val_accuracy: 0.9307\n",
      "Epoch 98/100\n",
      "48000/48000 [==============================] - 82s 2ms/sample - loss: 0.0438 - accuracy: 0.9846 - val_loss: 0.3156 - val_accuracy: 0.9294\n",
      "Epoch 99/100\n",
      "48000/48000 [==============================] - 82s 2ms/sample - loss: 0.0426 - accuracy: 0.9847 - val_loss: 0.3014 - val_accuracy: 0.9342\n",
      "Epoch 100/100\n",
      "48000/48000 [==============================] - 81s 2ms/sample - loss: 0.0389 - accuracy: 0.9860 - val_loss: 0.3042 - val_accuracy: 0.9293\n"
     ]
    },
    {
     "data": {
      "text/plain": [
       "<tensorflow.python.keras.callbacks.History at 0x277e539fdc8>"
      ]
     },
     "execution_count": 122,
     "metadata": {},
     "output_type": "execute_result"
    }
   ],
   "source": [
    "model.fit(x = X_train, y = y_cat_train, batch_size = 128, epochs = 100, validation_data = (X_val, y_val), \n",
    "         callbacks = [early_stop])"
   ]
  },
  {
   "cell_type": "code",
   "execution_count": 123,
   "metadata": {},
   "outputs": [],
   "source": [
    "metrics = pd.DataFrame(model.history.history)"
   ]
  },
  {
   "cell_type": "code",
   "execution_count": 124,
   "metadata": {},
   "outputs": [
    {
     "data": {
      "text/html": [
       "<div>\n",
       "<style scoped>\n",
       "    .dataframe tbody tr th:only-of-type {\n",
       "        vertical-align: middle;\n",
       "    }\n",
       "\n",
       "    .dataframe tbody tr th {\n",
       "        vertical-align: top;\n",
       "    }\n",
       "\n",
       "    .dataframe thead th {\n",
       "        text-align: right;\n",
       "    }\n",
       "</style>\n",
       "<table border=\"1\" class=\"dataframe\">\n",
       "  <thead>\n",
       "    <tr style=\"text-align: right;\">\n",
       "      <th></th>\n",
       "      <th>loss</th>\n",
       "      <th>accuracy</th>\n",
       "      <th>val_loss</th>\n",
       "      <th>val_accuracy</th>\n",
       "    </tr>\n",
       "  </thead>\n",
       "  <tbody>\n",
       "    <tr>\n",
       "      <th>0</th>\n",
       "      <td>0.601408</td>\n",
       "      <td>0.776187</td>\n",
       "      <td>2.292728</td>\n",
       "      <td>0.275667</td>\n",
       "    </tr>\n",
       "    <tr>\n",
       "      <th>1</th>\n",
       "      <td>0.373650</td>\n",
       "      <td>0.864313</td>\n",
       "      <td>0.302068</td>\n",
       "      <td>0.887000</td>\n",
       "    </tr>\n",
       "    <tr>\n",
       "      <th>2</th>\n",
       "      <td>0.319146</td>\n",
       "      <td>0.883500</td>\n",
       "      <td>0.310892</td>\n",
       "      <td>0.878083</td>\n",
       "    </tr>\n",
       "    <tr>\n",
       "      <th>3</th>\n",
       "      <td>0.291073</td>\n",
       "      <td>0.894875</td>\n",
       "      <td>0.251297</td>\n",
       "      <td>0.907333</td>\n",
       "    </tr>\n",
       "    <tr>\n",
       "      <th>4</th>\n",
       "      <td>0.272319</td>\n",
       "      <td>0.901187</td>\n",
       "      <td>0.245054</td>\n",
       "      <td>0.909333</td>\n",
       "    </tr>\n",
       "  </tbody>\n",
       "</table>\n",
       "</div>"
      ],
      "text/plain": [
       "       loss  accuracy  val_loss  val_accuracy\n",
       "0  0.601408  0.776187  2.292728      0.275667\n",
       "1  0.373650  0.864313  0.302068      0.887000\n",
       "2  0.319146  0.883500  0.310892      0.878083\n",
       "3  0.291073  0.894875  0.251297      0.907333\n",
       "4  0.272319  0.901187  0.245054      0.909333"
      ]
     },
     "execution_count": 124,
     "metadata": {},
     "output_type": "execute_result"
    }
   ],
   "source": [
    "metrics.head()"
   ]
  },
  {
   "cell_type": "code",
   "execution_count": 125,
   "metadata": {},
   "outputs": [
    {
     "data": {
      "text/plain": [
       "<matplotlib.axes._subplots.AxesSubplot at 0x277e63e4788>"
      ]
     },
     "execution_count": 125,
     "metadata": {},
     "output_type": "execute_result"
    },
    {
     "data": {
      "image/png": "[encoded data removed]",
      "text/plain": [
       "<Figure size 432x288 with 1 Axes>"
      ]
     },
     "metadata": {
      "needs_background": "light"
     },
     "output_type": "display_data"
    }
   ],
   "source": [
    "metrics[['loss', 'val_loss']].plot()"
   ]
  },
  {
   "cell_type": "code",
   "execution_count": 126,
   "metadata": {},
   "outputs": [
    {
     "data": {
      "text/plain": [
       "<matplotlib.axes._subplots.AxesSubplot at 0x277e6451848>"
      ]
     },
     "execution_count": 126,
     "metadata": {},
     "output_type": "execute_result"
    },
    {
     "data": {
      "image/png": "[encoded data removed]",
      "text/plain": [
       "<Figure size 432x288 with 1 Axes>"
      ]
     },
     "metadata": {
      "needs_background": "light"
     },
     "output_type": "display_data"
    }
   ],
   "source": [
    "metrics[['accuracy', 'val_accuracy']].plot()"
   ]
  },
  {
   "cell_type": "code",
   "execution_count": 127,
   "metadata": {},
   "outputs": [
    {
     "data": {
      "text/plain": [
       "['loss', 'accuracy']"
      ]
     },
     "execution_count": 127,
     "metadata": {},
     "output_type": "execute_result"
    }
   ],
   "source": [
    "model.metrics_names"
   ]
  },
  {
   "cell_type": "code",
   "execution_count": 129,
   "metadata": {},
   "outputs": [
    {
     "data": {
      "text/plain": [
       "[0.2971340233185794, 0.9325]"
      ]
     },
     "execution_count": 129,
     "metadata": {},
     "output_type": "execute_result"
    }
   ],
   "source": [
    "model.evaluate(X_test, y_cat_test, verbose = 0)"
   ]
  },
  {
   "cell_type": "code",
   "execution_count": 147,
   "metadata": {},
   "outputs": [
    {
     "data": {
      "image/png": "[encoded data removed]",
      "text/plain": [
       "<Figure size 864x1008 with 16 Axes>"
      ]
     },
     "metadata": {
      "needs_background": "light"
     },
     "output_type": "display_data"
    }
   ],
   "source": [
    "y_pred = model.predict(X_test)\n",
    "X_test__ = X_test.reshape(X_test.shape[0], 28, 28)\n",
    "\n",
    "fig, axis = plt.subplots(4, 4, figsize=(12, 14))\n",
    "for i, ax in enumerate(axis.flat):\n",
    "    ax.imshow(X_test__[i], cmap='binary')\n",
    "    ax.set(title = f\"Real Class is {classes[y_cat_test[i].argmax()]}\\nPredict Class is {classes[y_pred[i].argmax()]}\");"
   ]
  },
  {
   "cell_type": "code",
   "execution_count": 148,
   "metadata": {},
   "outputs": [],
   "source": [
    "#classification report and confusion matrix"
   ]
  },
  {
   "cell_type": "code",
   "execution_count": 151,
   "metadata": {},
   "outputs": [],
   "source": [
    "predictions = model.predict(X_test)\n",
    "# Convert predictions classes to one hot vectors \n",
    "predictions_classes = np.argmax(predictions, axis = 1)\n",
    "# Convert test set observations to one hot vectors\n",
    "y_true = np.argmax(y_cat_test, axis = 1)"
   ]
  },
  {
   "cell_type": "code",
   "execution_count": 156,
   "metadata": {},
   "outputs": [
    {
     "name": "stdout",
     "output_type": "stream",
     "text": [
      "              precision    recall  f1-score   support\n",
      "\n",
      "           0       0.92      0.84      0.88      1000\n",
      "           1       0.99      0.99      0.99      1000\n",
      "           2       0.93      0.86      0.89      1000\n",
      "           3       0.93      0.95      0.94      1000\n",
      "           4       0.88      0.91      0.90      1000\n",
      "           5       0.99      0.98      0.99      1000\n",
      "           6       0.76      0.84      0.80      1000\n",
      "           7       0.96      0.98      0.97      1000\n",
      "           8       0.99      0.99      0.99      1000\n",
      "           9       0.98      0.97      0.98      1000\n",
      "\n",
      "    accuracy                           0.93     10000\n",
      "   macro avg       0.93      0.93      0.93     10000\n",
      "weighted avg       0.93      0.93      0.93     10000\n",
      "\n"
     ]
    }
   ],
   "source": [
    "print(classification_report(y_true, predictions_classes))"
   ]
  },
  {
   "cell_type": "code",
   "execution_count": 153,
   "metadata": {},
   "outputs": [
    {
     "name": "stdout",
     "output_type": "stream",
     "text": [
      "[[839   1  23   8   0   1 123   0   5   0]\n",
      " [  0 992   1   6   0   0   1   0   0   0]\n",
      " [  7   0 859  10  56   1  66   0   1   0]\n",
      " [  7   3   5 949  20   0  14   0   2   0]\n",
      " [  1   1  15  16 914   0  52   0   1   0]\n",
      " [  0   0   0   0   0 984   0  14   1   1]\n",
      " [ 60   3  23  29  47   0 838   0   0   0]\n",
      " [  0   0   0   0   0   2   0 981   0  17]\n",
      " [  0   1   0   0   0   1   2   0 995   1]\n",
      " [  0   0   0   0   0   1   0  25   0 974]]\n"
     ]
    }
   ],
   "source": [
    "print(confusion_matrix(y_true, predictions_classes))"
   ]
  },
  {
   "cell_type": "code",
   "execution_count": 154,
   "metadata": {},
   "outputs": [
    {
     "data": {
      "text/plain": [
       "<matplotlib.axes._subplots.AxesSubplot at 0x27824fd7988>"
      ]
     },
     "execution_count": 154,
     "metadata": {},
     "output_type": "execute_result"
    },
    {
     "data": {
      "image/png": "[encoded data removed]",
      "text/plain": [
       "<Figure size 864x576 with 2 Axes>"
      ]
     },
     "metadata": {
      "needs_background": "light"
     },
     "output_type": "display_data"
    }
   ],
   "source": [
    "plt.figure(figsize = (12, 8))\n",
    "sns.heatmap(confusion_matrix(y_true, predictions_classes), annot=True)"
   ]
  },
  {
   "cell_type": "code",
   "execution_count": null,
   "metadata": {},
   "outputs": [],
   "source": []
  }
 ],
 "metadata": {
  "kernelspec": {
   "display_name": "Python 3",
   "language": "python",
   "name": "python3"
  },
  "language_info": {
   "codemirror_mode": {
    "name": "ipython",
    "version": 3
   },
   "file_extension": ".py",
   "mimetype": "text/x-python",
   "name": "python",
   "nbconvert_exporter": "python",
   "pygments_lexer": "ipython3",
   "version": "3.7.6"
  }
 },
 "nbformat": 4,
 "nbformat_minor": 4
}
